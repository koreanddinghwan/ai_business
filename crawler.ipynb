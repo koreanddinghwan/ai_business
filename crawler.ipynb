{
 "cells": [
  {
   "cell_type": "code",
   "execution_count": 27,
   "metadata": {},
   "outputs": [
    {
     "name": "stdout",
     "output_type": "stream",
     "text": [
      "success !\n",
      "save.. !\n"
     ]
    }
   ],
   "source": [
    "import pandas as pd\n",
    "from selenium import webdriver\n",
    "from selenium.webdriver.support.ui import WebDriverWait\n",
    "from selenium.webdriver.support import expected_conditions as EC\n",
    "from selenium.webdriver.common.by import By\n",
    "import time\n",
    "\n",
    "chrome_options = webdriver.ChromeOptions()\n",
    "chrome_options.add_argument('--headless')\n",
    "chrome_options.add_argument('--no-sandbox')\n",
    "chrome_options.headless = True\n",
    "\n",
    "# 셀레니움 버전 업, 코랩 버전 업, 기상청 날씨누리 사이트 변경으로 인한 코드 변경\n",
    "def crawl_weather() :\n",
    "    \n",
    "    weather_data_10 = pd.DataFrame(columns=['현재일기_10','현재기온_10','체감온도_10','일강수_10'])\n",
    "    browser = webdriver.Chrome(options=chrome_options)\n",
    "    #url = 'http://www.weather.go.kr/weather/observation/currentweather.jsp?auto_man=m&type=t99&reg=184&tm=2019.10.25.16%3A00&x=19&y=7'\n",
    "    url = 'https://www.weather.go.kr/w/obs-climate/land/city-obs.do?auto_man=m&stn=0&dtm=&type=t99&reg=184&tm=2023.10.14.06%3A00'\n",
    "    browser.get(url)\n",
    "    day = 0\n",
    "    for i in range(0,46):\n",
    "        i+=1\n",
    "        if (i <= 30):\n",
    "            day = i\n",
    "        else:\n",
    "            day = i - 30\n",
    "        elem=browser.find_element(By.ID,'select-tm')\n",
    "        elem.clear()\n",
    "        elem.send_keys(\"2019.9.{}.10:00\".format(day))\n",
    "        btn=browser.find_elements(By.XPATH, '/html/body/div[2]/section/div/div[2]/div/form/div[1]/div[3]/input[2]')\n",
    "        \n",
    "        btn[0].click()\n",
    "        \n",
    "        time.sleep(1)\n",
    "        weathers = browser.find_elements(By.CSS_SELECTOR ,'td')\n",
    "        weather_data_10 = pd.concat([weather_data_10, \n",
    "                                    pd.DataFrame([[weathers[40].text,weathers[44].text, weathers[46].text, weathers[47].text]],\n",
    "                                                 columns=['현재일기_10','현재기온_10','체감온도_10','일강수_10'])],\n",
    "                                                 axis=0\n",
    "            )\n",
    "            \n",
    "    print('success !')\n",
    "    browser.close()\n",
    "    \n",
    "    return weather_data_10\n",
    "\n",
    "weather_data = crawl_weather()\n",
    "weather_data.to_csv('./datas/weather.csv', index = False)\n",
    "\n",
    "print('save.. !')"
   ]
  },
  {
   "cell_type": "code",
   "execution_count": null,
   "metadata": {},
   "outputs": [],
   "source": []
  }
 ],
 "metadata": {
  "kernelspec": {
   "display_name": "Python 3",
   "language": "python",
   "name": "python3"
  },
  "language_info": {
   "codemirror_mode": {
    "name": "ipython",
    "version": 3
   },
   "file_extension": ".py",
   "mimetype": "text/x-python",
   "name": "python",
   "nbconvert_exporter": "python",
   "pygments_lexer": "ipython3",
   "version": "3.10.12"
  }
 },
 "nbformat": 4,
 "nbformat_minor": 2
}
