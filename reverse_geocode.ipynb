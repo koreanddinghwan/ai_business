{
 "cells": [
  {
   "cell_type": "code",
   "execution_count": null,
   "metadata": {},
   "outputs": [],
   "source": [
    "!pip install python-dotenv\n",
    "!pip3 install requests"
   ]
  },
  {
   "cell_type": "code",
   "execution_count": null,
   "metadata": {},
   "outputs": [],
   "source": [
    "import numpy as np\n",
    "import pandas as pd\n",
    "import requests as r\n",
    "import time\n",
    "import os\n",
    "from dotenv import load_dotenv\n",
    "%load_ext dotenv\n",
    "%dotenv"
   ]
  },
  {
   "cell_type": "code",
   "execution_count": null,
   "metadata": {},
   "outputs": [],
   "source": [
    "test = pd.read_csv('./datas/test.csv', index_col=0)\n",
    "train = pd.read_csv('./datas/train.csv',  index_col=0)\n",
    "jeju_life = pd.read_csv('./datas/jeju_financial_life_data.csv')\n",
    "\n",
    "test.head()\n"
   ]
  },
  {
   "cell_type": "code",
   "execution_count": null,
   "metadata": {},
   "outputs": [],
   "source": [
    "# train과 test를 합칩니다.\n",
    "data = pd.concat([train, test])\n",
    "\n",
    "data.head()\n",
    "\n"
   ]
  },
  {
   "cell_type": "code",
   "execution_count": null,
   "metadata": {},
   "outputs": [],
   "source": [
    "# test, train, jeju_life에 각각 location, dong, si 칼럼을 추가한다.\n",
    "\n",
    "data['location'] = ''\n",
    "data['dong'] = ''\n",
    "data['si'] = ''\n",
    "\n",
    "jeju_life['location'] = ''\n",
    "jeju_life['dong'] = ''\n",
    "jeju_life['si'] = ''\n"
   ]
  },
  {
   "cell_type": "code",
   "execution_count": null,
   "metadata": {},
   "outputs": [],
   "source": [
    "# 각각 location을 만드는데, 이는 위도와 경도를 ,로 합친 것이다.\n",
    "# jeju_life['location'] = jeju_life['x_axis'].astype(str).str[:10] + ',' + jeju_life['y_axis'].astype(str).str[:10]\n",
    "\n",
    "data['location'] = data['longitude'].astype(str).str[:10]  + ',' + data['latitude'].astype(str).str[:10] "
   ]
  },
  {
   "cell_type": "code",
   "execution_count": null,
   "metadata": {},
   "outputs": [],
   "source": [
    "data['latitude']"
   ]
  },
  {
   "cell_type": "code",
   "execution_count": null,
   "metadata": {},
   "outputs": [],
   "source": [
    "jeju_life['location'] = jeju_life['x_axis'].astype(str).str[:10] + ',' + jeju_life['y_axis'].astype(str).str[:10]\n",
    "jeju_life.head()"
   ]
  },
  {
   "cell_type": "markdown",
   "metadata": {},
   "source": [
    "url = \"curl \"https://naveropenapi.apigw.ntruss.com/map-reversegeocode/v2/gc?coords={입력_좌표}&sourcecrs={좌표계}&orders={변환_작업_이름}&output={출력_형식}\" \\\n",
    "\t-H \"X-NCP-APIGW-API-KEY-ID: {애플리케이션 등록 시 발급받은 client id값}\" \\\n",
    "\t-H \"X-NCP-APIGW-API-KEY: {애플리케이션 등록 시 발급받은 client secret값}\" -v\""
   ]
  },
  {
   "cell_type": "code",
   "execution_count": null,
   "metadata": {},
   "outputs": [],
   "source": [
    "%dotenv ./.env"
   ]
  },
  {
   "cell_type": "markdown",
   "metadata": {},
   "source": [
    "jeju_finantial_life_data (외부데이터) 사용하여 피쳐 생성\n",
    "\n",
    "train, test 데이터의 'latitude', 'longitude'열, jeju_financial_life_data의 'X_AXIS', 'Y_AXIS'열을 지오코딩 프로그램을 사용하여 주소로 변환하였다. 변환한 주소를 전처리 하여 동 기준으로 두 데이터를 합쳐주었다. 그 뒤 파생변수를 생성하였다. data_address.csv는 data의 주소가, life_address.csv는 jeju_finantial_life_data의 주소가 담겨있다.\n",
    "\n",
    "\n"
   ]
  },
  {
   "cell_type": "code",
   "execution_count": null,
   "metadata": {},
   "outputs": [],
   "source": [
    "#coords = \"127.1054321,37.3595963\"\n",
    "\n",
    "def reverse_geocode(coords):\n",
    "\turl = \"https://naveropenapi.apigw.ntruss.com/map-reversegeocode/v2/gc?coords=%s&orders=legalcode&output=json\" %coords\n",
    "\n",
    "\tresponse = r.get(url, \n",
    "\t\t\t\t\theaders={\"X-NCP-APIGW-API-KEY-ID\": os.getenv(\"CLIENT_ID\"), \n",
    "\t\t\t  \t\t\t\t\"X-NCP-APIGW-API-KEY\": os.getenv(\"CLIENT_SECRET\")})\n",
    "\tdata = response.json()\n",
    "\tif (data['status']['code'] == 100):\n",
    "\t\tprint(\"error\", coords)\n",
    "\n",
    "\tdong = data['results'][0]['region']['area3']['name']\n",
    "\tsi = data['results'][0]['region']['area2']['name'].split()[0]\n",
    "\t\n",
    "\treturn {\"si\":si, \"dong\":dong}\n"
   ]
  },
  {
   "cell_type": "code",
   "execution_count": null,
   "metadata": {},
   "outputs": [],
   "source": [
    "data.head()"
   ]
  },
  {
   "cell_type": "code",
   "execution_count": null,
   "metadata": {},
   "outputs": [],
   "source": [
    "# 자 이제, data에 있는 location을 이용해서, 동과 시를 구해보자.\n",
    "# 64만개의 데이터를 한 번에 처리하는 것은 무리이다. 따라서 batch로 50000개씩 나누어서 처리하도록 하자.\n",
    "# 그리고 50000개씩 나누어 처리할때, 10000개씩 멀티프로세싱을 이용해서 처리하도록 하자.\n",
    "\n",
    "# 처리완료된 데이터는 파일로 따로 처리한다.\n",
    "\n",
    "import multiprocess\n",
    "\n",
    "batch = 50000\n",
    "\n",
    "def thread_function(name, start, end):\n",
    "\tend = min(end, len(data))\n",
    "\tfor i in range(start, end):\n",
    "\t\tprint(i)\n",
    "\t\tresult = reverse_geocode(data['location'][i])\n",
    "\t\tdata['si'][i] = result['si']\n",
    "\t\tdata['dong'][i] = result['dong']\n",
    "\n",
    "\n",
    "\n"
   ]
  },
  {
   "cell_type": "code",
   "execution_count": null,
   "metadata": {},
   "outputs": [],
   "source": [
    "import threading\n",
    "\n",
    "jobs = []\n",
    "\n",
    "def batch_threading(step, batchSize):\n",
    "\tbatch_start = (step -1)* (batchSize)\n",
    "\tbatch_end = step * batchSize\n",
    "\t\n",
    "\n",
    "\t# batch 크기는 정해졌으므로, 여기서 4개의 멀티프로세싱을 이용해서 처리하도록 하자.\n",
    "\tfor i in range(4):\n",
    "\t\tstart = batch_start + int(50000 / 4 * i)\n",
    "\t\tend = batch_end + int(50000 / 4 * (i+1))\n",
    "\t\tp = threading.Thread(target=thread_function, args=(i, start, end))\n",
    "\t\tjobs.append(p)\n",
    "\t\tp.start()\n",
    "\t\ttime.sleep(1)\n",
    "\n",
    "\tfor proc in jobs:\n",
    "\t\tproc.join()\n",
    "\n",
    "\t# 처리된 데이터만 잘라내서 서장\n",
    "\n",
    "\tdata.iloc[batch_start:batch_end, :].to_csv(\"./datas/data%d.csv\" %step)\n",
    "\t\n",
    "\t"
   ]
  },
  {
   "cell_type": "code",
   "execution_count": null,
   "metadata": {},
   "outputs": [],
   "source": [
    "batch_threading(12, batch)"
   ]
  }
 ],
 "metadata": {
  "kernelspec": {
   "display_name": "Python 3",
   "language": "python",
   "name": "python3"
  },
  "language_info": {
   "codemirror_mode": {
    "name": "ipython",
    "version": 3
   },
   "file_extension": ".py",
   "mimetype": "text/x-python",
   "name": "python",
   "nbconvert_exporter": "python",
   "pygments_lexer": "ipython3",
   "version": "3.10.12"
  }
 },
 "nbformat": 4,
 "nbformat_minor": 2
}
