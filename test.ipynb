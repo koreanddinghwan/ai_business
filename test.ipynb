{
 "cells": [
  {
   "cell_type": "code",
   "execution_count": 15,
   "metadata": {},
   "outputs": [
    {
     "ename": "ModuleNotFoundError",
     "evalue": "No module named 'lightgbm'",
     "output_type": "error",
     "traceback": [
      "\u001b[0;31m---------------------------------------------------------------------------\u001b[0m",
      "\u001b[0;31mModuleNotFoundError\u001b[0m                       Traceback (most recent call last)",
      "\u001b[1;32m/Users/ddinghwan/Desktop/학교/23-2/ai/ai_business/test.ipynb 셀 1\u001b[0m line \u001b[0;36m5\n\u001b[1;32m     <a href='vscode-notebook-cell:/Users/ddinghwan/Desktop/%E1%84%92%E1%85%A1%E1%86%A8%E1%84%80%E1%85%AD/23-2/ai/ai_business/test.ipynb#W0sZmlsZQ%3D%3D?line=51'>52</a>\u001b[0m \u001b[39mimport\u001b[39;00m \u001b[39mrandom\u001b[39;00m\n\u001b[1;32m     <a href='vscode-notebook-cell:/Users/ddinghwan/Desktop/%E1%84%92%E1%85%A1%E1%86%A8%E1%84%80%E1%85%AD/23-2/ai/ai_business/test.ipynb#W0sZmlsZQ%3D%3D?line=52'>53</a>\u001b[0m random\u001b[39m.\u001b[39mseed(\u001b[39m42\u001b[39m)\n\u001b[0;32m---> <a href='vscode-notebook-cell:/Users/ddinghwan/Desktop/%E1%84%92%E1%85%A1%E1%86%A8%E1%84%80%E1%85%AD/23-2/ai/ai_business/test.ipynb#W0sZmlsZQ%3D%3D?line=54'>55</a>\u001b[0m \u001b[39mimport\u001b[39;00m \u001b[39mlightgbm\u001b[39;00m \u001b[39mas\u001b[39;00m \u001b[39mlgb\u001b[39;00m\n\u001b[1;32m     <a href='vscode-notebook-cell:/Users/ddinghwan/Desktop/%E1%84%92%E1%85%A1%E1%86%A8%E1%84%80%E1%85%AD/23-2/ai/ai_business/test.ipynb#W0sZmlsZQ%3D%3D?line=55'>56</a>\u001b[0m \u001b[39mfrom\u001b[39;00m \u001b[39mkeras\u001b[39;00m \u001b[39mimport\u001b[39;00m metrics\n\u001b[1;32m     <a href='vscode-notebook-cell:/Users/ddinghwan/Desktop/%E1%84%92%E1%85%A1%E1%86%A8%E1%84%80%E1%85%AD/23-2/ai/ai_business/test.ipynb#W0sZmlsZQ%3D%3D?line=56'>57</a>\u001b[0m \u001b[39mfrom\u001b[39;00m \u001b[39msklearn\u001b[39;00m\u001b[39m.\u001b[39;00m\u001b[39mmetrics\u001b[39;00m \u001b[39mimport\u001b[39;00m r2_score\n",
      "\u001b[0;31mModuleNotFoundError\u001b[0m: No module named 'lightgbm'"
     ]
    }
   ],
   "source": [
    "# base\n",
    "import os\n",
    "import shutil\n",
    "import random\n",
    "import numpy as np\n",
    "import time\n",
    "from collections import Counter\n",
    "from sklearn.metrics import mean_squared_error\n",
    "\n",
    "# data preprocessing\n",
    "import pandas as pd\n",
    "pd.max_columns = 130\n",
    "pd.max_rows = 30\n",
    "\n",
    "# visualization\n",
    "import seaborn as sns\n",
    "import matplotlib.pyplot as plt\n",
    "%matplotlib inline\n",
    "plt.rc('font', family='Malgun Gothic')\n",
    "plt.rc('axes', unicode_minus=False)\n",
    "\n",
    "# ignore warining\n",
    "import warnings\n",
    "warnings.filterwarnings('ignore')\n",
    "\n",
    "\n",
    "import folium # 지도 관련 시각화\n",
    "from folium.plugins import MarkerCluster #지도 관련 시각화\n",
    "import geopy.distance #거리 계산해주는 패키지 사용\n",
    "\n",
    "\n",
    "# save\n",
    "import joblib \n",
    "import pickle\n",
    "\n",
    "# selenium\n",
    "from selenium.webdriver import Chrome\n",
    "\n",
    "import geopy.distance\n",
    "\n",
    "from sklearn.preprocessing import LabelEncoder\n",
    "from sklearn.preprocessing import StandardScaler\n",
    "from sklearn.model_selection import GridSearchCV\n",
    "from sklearn.ensemble import RandomForestRegressor\n",
    "\n",
    "import seaborn as sns\n",
    "import matplotlib.pyplot as plt\n",
    "%matplotlib inline\n",
    "import joblib\n",
    "import pickle\n",
    "\n",
    "import random\n",
    "random.seed(42)\n",
    "\n",
    "import lightgbm as lgb\n",
    "from keras import metrics\n",
    "from sklearn.metrics import r2_score"
   ]
  },
  {
   "cell_type": "code",
   "execution_count": null,
   "metadata": {},
   "outputs": [],
   "source": [
    "\n",
    "train = pd.read_csv(\"./datas/train.csv\")\n",
    "test = pd.read_csv(\"./datas/test.csv\")\n",
    "bts = pd.read_csv(\"./datas/bus_bts.csv\")\n",
    "\n",
    "train.shape, test.shape, bts.shape"
   ]
  }
 ],
 "metadata": {
  "kernelspec": {
   "display_name": "Python 3",
   "language": "python",
   "name": "python3"
  },
  "language_info": {
   "codemirror_mode": {
    "name": "ipython",
    "version": 3
   },
   "file_extension": ".py",
   "mimetype": "text/x-python",
   "name": "python",
   "nbconvert_exporter": "python",
   "pygments_lexer": "ipython3",
   "version": "3.10.12"
  }
 },
 "nbformat": 4,
 "nbformat_minor": 2
}
